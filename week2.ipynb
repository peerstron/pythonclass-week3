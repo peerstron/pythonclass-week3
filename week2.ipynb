{
  "cells": [
    {
      "cell_type": "code",
      "metadata": {
        "tags": [],
        "cell_id": "00000-f74eab27-0eb7-4f0c-83a8-6c6186c2a48c",
        "deepnote_to_be_reexecuted": false,
        "source_hash": "97279d05",
        "execution_start": 1619993944618,
        "execution_millis": 6,
        "deepnote_cell_type": "code"
      },
      "source": "#The following is the breakdown of PAYEE tax regime in Ghana\n#_________________________________________________\n#|   Amount                      |   Tax Charged |\n#-------------------------------------------------\n#|   First  GHC319               |   0%          |\n#|   Next   GHC100               |   5%          |\n#|   Next   GHC120               |   10%         |\n#|   Next   GHC3000              |   17.5%       |\n#|   Next   GHC16461             |   25%         |\n#|   Next   GHC20000             |   30%         |\n#-------------------------------------------------\n#Write a function that given a person's income, will\n#a) Break the amount down into the tax units\n#b) Calculate the tax to be paid.\n\n\namount = 30000\nprint(amount)",
      "execution_count": 1,
      "outputs": [
        {
          "name": "stdout",
          "text": "30000\n",
          "output_type": "stream"
        }
      ]
    },
    {
      "cell_type": "code",
      "metadata": {
        "tags": [],
        "cell_id": "00001-32c09b23-0a50-4028-8d1e-d71947f7f213",
        "deepnote_to_be_reexecuted": false,
        "source_hash": "c24d2963",
        "execution_start": 1619993944629,
        "execution_millis": 9,
        "deepnote_cell_type": "code"
      },
      "source": "amount = 30000\ntaxAmount = [319, 100, 120, 3000, 16461, 20000]\n\ndef printAmnt(amount, taxAmount):\n    i=0\n    taxBreak = []\n    while(i < len(taxAmount)):\n        taxBreak.append(taxAmount[i])\n        i += 1\n    return taxBreak\n\nprintAmnt(amount, taxAmount)",
      "execution_count": 2,
      "outputs": [
        {
          "output_type": "execute_result",
          "execution_count": 2,
          "data": {
            "text/plain": "[319, 100, 120, 3000, 16461, 20000]"
          },
          "metadata": {}
        }
      ]
    },
    {
      "cell_type": "code",
      "metadata": {
        "tags": [],
        "cell_id": "00002-36196002-2249-4a53-8bec-9cc9a27d3cb3",
        "deepnote_to_be_reexecuted": false,
        "source_hash": "fdbb4c13",
        "execution_start": 1619993944655,
        "execution_millis": 8,
        "deepnote_cell_type": "code"
      },
      "source": "amount = 3000\ntaxAmount = [319, 100, 120, 3000, 16461, 20000]\n\ndef taxBrackets(amount, taxAmount):\n    i=0\n    cumAmnt = 0\n    taxBreak = []\n    amounts = []\n    taxable = 0\n    while(i < len(taxAmount)):\n        amount -= taxAmount[i]\n        amounts.append(amount)\n        if amount > 0:\n            taxable = amount - (amount - taxAmount[i])\n            taxBreak.append(taxable)\n            cumAmnt += taxable\n        elif amount == 0:\n            taxable = 0\n            taxBreak.append(taxable)\n            cumAmnt += taxable\n        else:\n            taxable = -(amount)\n            taxBreak.append(taxable)\n            cumAmnt += taxable\n            \n        i += 1\n    # if(cumAmnt == 30000):\n    if(cumAmnt > 0):\n        return taxBreak\n    return \"Something is wrong with your calculations\"\n\ntaxBrackets(amount, taxAmount)",
      "execution_count": 3,
      "outputs": [
        {
          "output_type": "execute_result",
          "execution_count": 3,
          "data": {
            "text/plain": "[319, 100, 120, 539, 17000, 37000]"
          },
          "metadata": {}
        }
      ]
    },
    {
      "cell_type": "code",
      "metadata": {
        "tags": [],
        "cell_id": "00003-dd6f0c78-5160-46ed-9be1-23646488c4bc",
        "deepnote_to_be_reexecuted": false,
        "source_hash": "a0e26e71",
        "execution_start": 1619993944656,
        "execution_millis": 7,
        "deepnote_cell_type": "code"
      },
      "source": "taxBreaks = [319, 100, 120, 3000, 16461, 10000]\ntaxCharges = [0, 0.05, 0.1, 0.175, 0.25, 0.3]\n\ndef calcMonthlyTax(taxBreaks, taxCharges):\n    i = 0\n    tax = 0\n    cumTax = 0\n    \n    while(i < len(taxBreaks)):\n        if(taxCharges[i] == 0):\n            tax = 0\n            cumTax += tax\n            i += 1\n        else:\n            tax = taxBreaks[i] * taxCharges[i]\n            cumTax += tax\n            i += 1\n    return cumTax\n\nprint(\"Total tax charge for the month is: \" + \"GHC\" + str(calcMonthlyTax(taxBreaks, taxCharges)))",
      "execution_count": 4,
      "outputs": [
        {
          "name": "stdout",
          "text": "Total tax charge for the month is: GHC7657.25\n",
          "output_type": "stream"
        }
      ]
    },
    {
      "cell_type": "code",
      "source": "amount = 5000\ntaxAmount = [319, 100, 120, 3000, 16461, 20000]\n\ndef calcTaxes(amount, taxAmount):\n    i = 0\n    actualTaxes = []\n    while i < len(taxAmount):\n#        if (amount < taxAmount[i]):\n#            break\n        if (amount >= taxAmount[i]):\n            actualTaxes.append(taxAmount[i])\n            amount -= taxAmount[i]\n            i += 1\n        else:\n            actualTaxes.append(amount)\n            break\n    return actualTaxes\n\ntaxPoints = calcTaxes(amount, taxAmount)\nprint(taxPoints)",
      "metadata": {
        "tags": [],
        "cell_id": "00004-32dbaf39-965e-43ce-a721-357281e8b22f",
        "deepnote_to_be_reexecuted": false,
        "source_hash": "76250540",
        "execution_start": 1619997531301,
        "execution_millis": 4,
        "deepnote_cell_type": "code"
      },
      "outputs": [
        {
          "name": "stdout",
          "text": "[319, 100, 120, 3000, 1461]\n",
          "output_type": "stream"
        }
      ],
      "execution_count": 27
    },
    {
      "cell_type": "code",
      "source": "# We are required to calculate the amount charged as tax from a person's monthly salary\n\n# This represents the person's salary at the end of the month\namount = 3000\n\n# This represents the percentage breakdown of taxes to be charged on specific\n# amounts from the salary\ntaxPercentages = [0, 0.05, 0.1, 0.175, 0.25, 0.3]\n\ntaxableAmounts = [319, 100, 120, 3000, 16461, 20000]\n\n# This function takes the monthly salary and taxableAmounts and then return to us\n# the parts from the salary we can actually calculate tax on\ndef calcTaxables(amount, taxableAmounts):\n    i = 0\n    actualTaxes = []\n    while i < len(taxableAmounts):\n#        if (amount < taxableAmounts[i]):\n#            break\n        if (amount >= taxableAmounts[i]):\n            actualTaxes.append(taxableAmounts[i])\n            amount -= taxableAmounts[i]\n            i += 1\n        else:\n            actualTaxes.append(amount)\n            break\n    return actualTaxes\n\ntaxablePoints = calcTaxables(amount, taxableAmounts)\n\ndef calcEndOfMonthTax(taxablePoints, taxPercentages):\n    i = 0\n    cumTax = 0\n    taxes = []\n    while (i < len(taxablePoints)):\n        tax = taxablePoints[i] * taxPercentages[i]\n        cumTax += tax\n        taxes.append(tax)\n        i += 1\n    return cumTax\n\ntaxForTheMonth = calcEndOfMonthTax(taxablePoints, taxPercentages)\n\nprint(taxForTheMonth)",
      "metadata": {
        "tags": [],
        "cell_id": "00005-4ff9c27d-9663-4d0e-b43c-c442e9e550a3",
        "deepnote_to_be_reexecuted": false,
        "source_hash": "5d2b22b4",
        "execution_start": 1620001559034,
        "execution_millis": 12,
        "deepnote_cell_type": "code"
      },
      "outputs": [
        {
          "name": "stdout",
          "text": "447.67499999999995\n",
          "output_type": "stream"
        }
      ],
      "execution_count": 28
    },
    {
      "cell_type": "markdown",
      "source": "<a style='text-decoration:none;line-height:16px;display:flex;color:#5B5B62;padding:10px;justify-content:end;' href='https://deepnote.com?utm_source=created-in-deepnote-cell&projectId=e48528ad-a01c-415a-80de-2ac2130705ad' target=\"_blank\">\n<img alt='Created in deepnote.com' style='display:inline;max-height:16px;margin:0px;margin-right:7.5px;' src='data:image/svg+xml;base64,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' > </img>\nCreated in <span style='font-weight:600;margin-left:4px;'>Deepnote</span></a>",
      "metadata": {
        "tags": [],
        "created_in_deepnote_cell": true,
        "deepnote_cell_type": "markdown"
      }
    }
  ],
  "nbformat": 4,
  "nbformat_minor": 2,
  "metadata": {
    "orig_nbformat": 2,
    "deepnote": {
      "is_reactive": false
    },
    "deepnote_notebook_id": "119c667a-3b8c-4204-a70c-0f7f51342c70",
    "deepnote_execution_queue": []
  }
}