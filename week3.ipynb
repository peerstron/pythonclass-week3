{
  "cells": [
    {
      "cell_type": "code",
      "metadata": {
        "tags": [],
        "cell_id": "00000-60e3025c-5dc5-46ec-a919-a3a425629a22",
        "deepnote_to_be_reexecuted": false,
        "source_hash": "8d50197e",
        "execution_start": 1619530602732,
        "execution_millis": 1,
        "deepnote_cell_type": "code"
      },
      "source": "f = open(\"std_mks.csv\",\"r\")",
      "execution_count": null,
      "outputs": []
    },
    {
      "cell_type": "code",
      "metadata": {
        "tags": [],
        "cell_id": "00001-b606c14e-be90-4c38-afac-b660712d61cd",
        "deepnote_to_be_reexecuted": false,
        "source_hash": "52ee97eb",
        "execution_start": 1619530602737,
        "execution_millis": 3,
        "deepnote_cell_type": "code"
      },
      "source": "cls_lst = f.read()\nf.close()",
      "execution_count": null,
      "outputs": []
    },
    {
      "cell_type": "code",
      "metadata": {
        "tags": [],
        "cell_id": "00002-e5e22fce-d91e-42b6-ba82-3614baa95d8a",
        "deepnote_to_be_reexecuted": false,
        "source_hash": "ebe86b51",
        "execution_start": 1619530602752,
        "execution_millis": 0,
        "deepnote_cell_type": "code"
      },
      "source": "cls_lst = cls_lst.split(\"\\n\")[1:-1]",
      "execution_count": null,
      "outputs": []
    },
    {
      "cell_type": "code",
      "metadata": {
        "tags": [],
        "cell_id": "00003-81ead1fa-cd34-437b-b5ae-2737e5a77f25",
        "deepnote_to_be_reexecuted": false,
        "source_hash": "ae79cb92",
        "execution_start": 1619530602772,
        "execution_millis": 9,
        "deepnote_cell_type": "code"
      },
      "source": "cls_lst",
      "execution_count": null,
      "outputs": [
        {
          "output_type": "execute_result",
          "execution_count": 4,
          "data": {
            "text/plain": "['Jack Frost,56,70,76,57',\n 'Easter Bunny,76,69,64,54',\n 'Tooth Fairy,59,65,56,57',\n 'Santa Claus,85,74,87,78',\n 'Kweku Ananse,78,64,56,77',\n 'Okornori Yaa,53,88,65,57',\n 'Gbee Shiokor,69,77,46,65',\n 'Tsia Anaanu,70,63,75,76',\n 'Atsii Mota,66,81,65,65',\n 'Abele Nkpe,58,69,64,75']"
          },
          "metadata": {}
        }
      ]
    },
    {
      "cell_type": "code",
      "metadata": {
        "tags": [],
        "cell_id": "00006-93b1b269-c649-4ec3-b6a2-b6a322e09a86",
        "deepnote_to_be_reexecuted": false,
        "source_hash": "eaa724d1",
        "execution_start": 1619530602773,
        "execution_millis": 8,
        "deepnote_cell_type": "code"
      },
      "source": "newList = []\nfor i in range(len(cls_lst)):\n    newList.append(cls_lst[i].split(\",\"))\nnewList",
      "execution_count": null,
      "outputs": [
        {
          "output_type": "execute_result",
          "execution_count": 5,
          "data": {
            "text/plain": "[['Jack Frost', '56', '70', '76', '57'],\n ['Easter Bunny', '76', '69', '64', '54'],\n ['Tooth Fairy', '59', '65', '56', '57'],\n ['Santa Claus', '85', '74', '87', '78'],\n ['Kweku Ananse', '78', '64', '56', '77'],\n ['Okornori Yaa', '53', '88', '65', '57'],\n ['Gbee Shiokor', '69', '77', '46', '65'],\n ['Tsia Anaanu', '70', '63', '75', '76'],\n ['Atsii Mota', '66', '81', '65', '65'],\n ['Abele Nkpe', '58', '69', '64', '75']]"
          },
          "metadata": {}
        }
      ]
    },
    {
      "cell_type": "code",
      "metadata": {
        "tags": [],
        "cell_id": "00007-96b8725b-b663-4892-8027-63814703cc35",
        "deepnote_to_be_reexecuted": false,
        "source_hash": "376152d5",
        "execution_start": 1619530602773,
        "execution_millis": 8,
        "deepnote_cell_type": "code"
      },
      "source": "maxMark = []\nfor i in range(len(newList)):\n    maxMark.append({newList[i][0]: max(newList[i][1:])})\nmaxMark",
      "execution_count": null,
      "outputs": [
        {
          "output_type": "execute_result",
          "execution_count": 6,
          "data": {
            "text/plain": "[{'Jack Frost': '76'},\n {'Easter Bunny': '76'},\n {'Tooth Fairy': '65'},\n {'Santa Claus': '87'},\n {'Kweku Ananse': '78'},\n {'Okornori Yaa': '88'},\n {'Gbee Shiokor': '77'},\n {'Tsia Anaanu': '76'},\n {'Atsii Mota': '81'},\n {'Abele Nkpe': '75'}]"
          },
          "metadata": {}
        }
      ]
    },
    {
      "cell_type": "markdown",
      "source": "<a style='text-decoration:none;line-height:16px;display:flex;color:#5B5B62;padding:10px;justify-content:end;' href='https://deepnote.com?utm_source=created-in-deepnote-cell&projectId=e48528ad-a01c-415a-80de-2ac2130705ad' target=\"_blank\">\n<img alt='Created in deepnote.com' style='display:inline;max-height:16px;margin:0px;margin-right:7.5px;' src='data:image/svg+xml;base64,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' > </img>\nCreated in <span style='font-weight:600;margin-left:4px;'>Deepnote</span></a>",
      "metadata": {
        "tags": [],
        "created_in_deepnote_cell": true,
        "deepnote_cell_type": "markdown"
      }
    }
  ],
  "nbformat": 4,
  "nbformat_minor": 2,
  "metadata": {
    "orig_nbformat": 2,
    "deepnote": {
      "is_reactive": false
    },
    "deepnote_notebook_id": "5fc57bd6-22f1-4184-afc0-95721daf0d4a",
    "deepnote_execution_queue": []
  }
}