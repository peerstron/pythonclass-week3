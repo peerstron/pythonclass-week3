{
  "cells": [
    {
      "cell_type": "code",
      "metadata": {
        "tags": [],
        "cell_id": "00000-f548d007-a4d3-48ec-9e48-223d04a2f341",
        "deepnote_to_be_reexecuted": false,
        "source_hash": "66784c1b",
        "execution_start": 1620025419160,
        "execution_millis": 6,
        "deepnote_cell_type": "code"
      },
      "source": "m = [[x, x + 1, x + 2 ] for x in range(1, 9, 3)]\nm",
      "execution_count": 1,
      "outputs": [
        {
          "output_type": "execute_result",
          "execution_count": 1,
          "data": {
            "text/plain": "[[1, 2, 3], [4, 5, 6], [7, 8, 9]]"
          },
          "metadata": {}
        }
      ]
    },
    {
      "cell_type": "code",
      "source": "numbers = [1,2,3,4]\n\nnumbers.append([5,6,7,8])\n\nprint(len(numbers))",
      "metadata": {
        "tags": [],
        "cell_id": "00001-b143bb4e-687b-4708-963f-f5cdc87c87cf",
        "deepnote_to_be_reexecuted": false,
        "source_hash": "9b438371",
        "execution_start": 1620025465269,
        "execution_millis": 4,
        "deepnote_cell_type": "code"
      },
      "outputs": [
        {
          "name": "stdout",
          "text": "5\n",
          "output_type": "stream"
        }
      ],
      "execution_count": 2
    },
    {
      "cell_type": "code",
      "source": "import math \n\ng = ['F','E','D','C','B','A']\nx = 67\nc = int(min(max(40,x),90)/10) - 4\nprint(g[c])",
      "metadata": {
        "tags": [],
        "cell_id": "00002-914d26dd-36db-416e-84f8-2af63a843919",
        "deepnote_to_be_reexecuted": false,
        "source_hash": "ba4197cc",
        "execution_start": 1620025580405,
        "execution_millis": 5,
        "deepnote_cell_type": "code"
      },
      "outputs": [
        {
          "name": "stdout",
          "text": "D\n",
          "output_type": "stream"
        }
      ],
      "execution_count": 5
    },
    {
      "cell_type": "code",
      "source": "x2 = [5, 2, 6, 9, 3, 5, 7, 8, 8, 10]\n\nfor i in range(1,len(x2)):\n    for j in range(i-1,-1,-1):\n        if x2[j] > x2[j+1]:\n            x2[j+1],x2[j] = x2[j],x2[j+1]\nprint(x2)",
      "metadata": {
        "tags": [],
        "cell_id": "00003-b7776b87-a9d2-4021-a299-548dd62b955b",
        "deepnote_to_be_reexecuted": false,
        "source_hash": "8c761d2a",
        "execution_start": 1620025605517,
        "execution_millis": 9,
        "deepnote_cell_type": "code"
      },
      "outputs": [
        {
          "name": "stdout",
          "text": "[2, 3, 5, 5, 6, 7, 8, 8, 9, 10]\n",
          "output_type": "stream"
        }
      ],
      "execution_count": 6
    },
    {
      "cell_type": "code",
      "source": "print('abcdefcdghcd'.split('cd'))",
      "metadata": {
        "tags": [],
        "cell_id": "00004-bee0988e-ff9f-4b65-a240-c73acffeb3fd",
        "deepnote_to_be_reexecuted": false,
        "source_hash": "4f01c2b9",
        "execution_start": 1620025651416,
        "execution_millis": 8,
        "deepnote_cell_type": "code"
      },
      "outputs": [
        {
          "name": "stdout",
          "text": "['ab', 'ef', 'gh', '']\n",
          "output_type": "stream"
        }
      ],
      "execution_count": 7
    },
    {
      "cell_type": "code",
      "source": "myList = [1, 5, 5, 5, 5, 1]\n\nmax = myList[0]\n\nindexOfMax = 0\n\nfor i in range(1, len(myList)):\n\n    if myList[i] > max:\n\n        max = myList[i]\n\n        indexOfMax = i\n\nprint(indexOfMax)",
      "metadata": {
        "tags": [],
        "cell_id": "00005-4311cc16-4365-46cb-9cb9-87e341a511a7",
        "deepnote_to_be_reexecuted": false,
        "source_hash": "748f5d54",
        "execution_start": 1620025863719,
        "execution_millis": 10,
        "deepnote_cell_type": "code"
      },
      "outputs": [
        {
          "name": "stdout",
          "text": "1\n",
          "output_type": "stream"
        }
      ],
      "execution_count": 11
    },
    {
      "cell_type": "code",
      "source": "def doublenums(ListOfNums):\n    for i in ListOfNums:\n        return 2*i\nnums = [0,1,2,3]\ndoublenums(nums)",
      "metadata": {
        "tags": [],
        "cell_id": "00006-7dcb7c80-41e1-4200-b99f-4cea6d7525e9",
        "deepnote_to_be_reexecuted": false,
        "source_hash": "a20adb45",
        "execution_start": 1620025894916,
        "execution_millis": 6,
        "deepnote_cell_type": "code"
      },
      "outputs": [
        {
          "output_type": "execute_result",
          "execution_count": 12,
          "data": {
            "text/plain": "0"
          },
          "metadata": {}
        }
      ],
      "execution_count": 12
    },
    {
      "cell_type": "code",
      "source": "import math \n\nx = range(12)\n\ny = [math.cos(i) for i in x]",
      "metadata": {
        "tags": [],
        "cell_id": "00007-e69fb2d1-04b2-4c1b-8bc7-34d3aee97af5",
        "deepnote_to_be_reexecuted": false,
        "source_hash": "f351d916",
        "execution_start": 1620026081554,
        "execution_millis": 1,
        "deepnote_cell_type": "code"
      },
      "outputs": [],
      "execution_count": 16
    },
    {
      "cell_type": "code",
      "source": "x = [5,2,6,9,3,5,7,8,8,10]\n\ny = [sum(x[:i]) for i in range(1,len(x)+1)]\ny",
      "metadata": {
        "tags": [],
        "cell_id": "00008-66ef70c9-beb6-4186-95cc-ad9897f12859",
        "deepnote_to_be_reexecuted": false,
        "source_hash": "f7c667e0",
        "execution_start": 1620026171006,
        "execution_millis": 8,
        "deepnote_cell_type": "code"
      },
      "outputs": [
        {
          "output_type": "execute_result",
          "execution_count": 18,
          "data": {
            "text/plain": "[5, 7, 13, 22, 25, 30, 37, 45, 53, 63]"
          },
          "metadata": {}
        }
      ],
      "execution_count": 18
    },
    {
      "cell_type": "code",
      "source": "x = [5,2,6,9,3,5,7,8,8,10]\n\ny = list(map(lambda i: sum(x[:i]),range(1,len(x)+1)))\ny",
      "metadata": {
        "tags": [],
        "cell_id": "00009-fa3f9e82-6a61-4ba2-99f2-9a9894f884ae",
        "deepnote_to_be_reexecuted": false,
        "source_hash": "3d687d29",
        "execution_start": 1620026204985,
        "execution_millis": 6,
        "deepnote_cell_type": "code"
      },
      "outputs": [
        {
          "output_type": "execute_result",
          "execution_count": 20,
          "data": {
            "text/plain": "[5, 7, 13, 22, 25, 30, 37, 45, 53, 63]"
          },
          "metadata": {}
        }
      ],
      "execution_count": 20
    },
    {
      "cell_type": "code",
      "source": "x = [5,2,6,9,3,5,7,8,8,10]\n\ny = [sum(x[:i]) for i in range(len(x))]\ny",
      "metadata": {
        "tags": [],
        "cell_id": "00010-b5a03c40-e0ab-4ca5-b4ad-2ac56434087c",
        "deepnote_to_be_reexecuted": false,
        "source_hash": "afd9c0f7",
        "execution_start": 1620026235954,
        "execution_millis": 6,
        "deepnote_cell_type": "code"
      },
      "outputs": [
        {
          "output_type": "execute_result",
          "execution_count": 21,
          "data": {
            "text/plain": "[0, 5, 7, 13, 22, 25, 30, 37, 45, 53]"
          },
          "metadata": {}
        }
      ],
      "execution_count": 21
    },
    {
      "cell_type": "code",
      "source": "x = [5,2,6,9,3,5,7,8,8,10]\n\ny = [sum(x[:i])+x[i] for i in range(len(x))]\ny",
      "metadata": {
        "tags": [],
        "cell_id": "00011-f4855a93-bfde-4354-8b48-dec6ccba5e5c",
        "deepnote_to_be_reexecuted": false,
        "source_hash": "7d00da27",
        "execution_start": 1620026270195,
        "execution_millis": 11,
        "deepnote_cell_type": "code"
      },
      "outputs": [
        {
          "output_type": "execute_result",
          "execution_count": 22,
          "data": {
            "text/plain": "[5, 7, 13, 22, 25, 30, 37, 45, 53, 63]"
          },
          "metadata": {}
        }
      ],
      "execution_count": 22
    },
    {
      "cell_type": "code",
      "source": "#determine the grading system like 0-49 is F or 0-45 is F or 0-45 is A?????\ndef calcGrade(x):\n    g = ['F','E','D','C','B','A']\n#    g = {0:'F',1:'E',2:'D',3:'C',4:'B',5:'A'}\n    c = int(min(max(4,(x+5)/10),9)) - 4\n    return g[c]\n\ncalcGrade(39)",
      "metadata": {
        "tags": [],
        "cell_id": "00012-76027f4b-51b4-424e-a9d3-cb526a5ae5f6",
        "deepnote_to_be_reexecuted": false,
        "source_hash": "f6cad73b",
        "execution_start": 1620026987645,
        "execution_millis": 5,
        "deepnote_cell_type": "code"
      },
      "outputs": [
        {
          "output_type": "error",
          "ename": "TypeError",
          "evalue": "'int' object is not callable",
          "traceback": [
            "\u001b[0;31m---------------------------------------------------------------------------\u001b[0m",
            "\u001b[0;31mTypeError\u001b[0m                                 Traceback (most recent call last)",
            "\u001b[0;32m<ipython-input-25-bd3738f5acf3>\u001b[0m in \u001b[0;36m<module>\u001b[0;34m\u001b[0m\n\u001b[1;32m      5\u001b[0m     \u001b[0;32mreturn\u001b[0m \u001b[0mg\u001b[0m\u001b[0;34m[\u001b[0m\u001b[0mc\u001b[0m\u001b[0;34m]\u001b[0m\u001b[0;34m\u001b[0m\u001b[0;34m\u001b[0m\u001b[0m\n\u001b[1;32m      6\u001b[0m \u001b[0;34m\u001b[0m\u001b[0m\n\u001b[0;32m----> 7\u001b[0;31m \u001b[0mcalcGrade\u001b[0m\u001b[0;34m(\u001b[0m\u001b[0;36m39\u001b[0m\u001b[0;34m)\u001b[0m\u001b[0;34m\u001b[0m\u001b[0;34m\u001b[0m\u001b[0m\n\u001b[0m",
            "\u001b[0;32m<ipython-input-25-bd3738f5acf3>\u001b[0m in \u001b[0;36mcalcGrade\u001b[0;34m(x)\u001b[0m\n\u001b[1;32m      2\u001b[0m     \u001b[0mg\u001b[0m \u001b[0;34m=\u001b[0m \u001b[0;34m[\u001b[0m\u001b[0;34m'F'\u001b[0m\u001b[0;34m,\u001b[0m\u001b[0;34m'E'\u001b[0m\u001b[0;34m,\u001b[0m\u001b[0;34m'D'\u001b[0m\u001b[0;34m,\u001b[0m\u001b[0;34m'C'\u001b[0m\u001b[0;34m,\u001b[0m\u001b[0;34m'B'\u001b[0m\u001b[0;34m,\u001b[0m\u001b[0;34m'A'\u001b[0m\u001b[0;34m]\u001b[0m\u001b[0;34m\u001b[0m\u001b[0;34m\u001b[0m\u001b[0m\n\u001b[1;32m      3\u001b[0m \u001b[0;31m#    g = {0:'F',1:'E',2:'D',3:'C',4:'B',5:'A'}\u001b[0m\u001b[0;34m\u001b[0m\u001b[0;34m\u001b[0m\u001b[0;34m\u001b[0m\u001b[0m\n\u001b[0;32m----> 4\u001b[0;31m     \u001b[0mc\u001b[0m \u001b[0;34m=\u001b[0m \u001b[0mint\u001b[0m\u001b[0;34m(\u001b[0m\u001b[0mmin\u001b[0m\u001b[0;34m(\u001b[0m\u001b[0mmax\u001b[0m\u001b[0;34m(\u001b[0m\u001b[0;36m4\u001b[0m\u001b[0;34m,\u001b[0m\u001b[0;34m(\u001b[0m\u001b[0mx\u001b[0m\u001b[0;34m+\u001b[0m\u001b[0;36m5\u001b[0m\u001b[0;34m)\u001b[0m\u001b[0;34m/\u001b[0m\u001b[0;36m10\u001b[0m\u001b[0;34m)\u001b[0m\u001b[0;34m,\u001b[0m\u001b[0;36m9\u001b[0m\u001b[0;34m)\u001b[0m\u001b[0;34m)\u001b[0m \u001b[0;34m-\u001b[0m \u001b[0;36m4\u001b[0m\u001b[0;34m\u001b[0m\u001b[0;34m\u001b[0m\u001b[0m\n\u001b[0m\u001b[1;32m      5\u001b[0m     \u001b[0;32mreturn\u001b[0m \u001b[0mg\u001b[0m\u001b[0;34m[\u001b[0m\u001b[0mc\u001b[0m\u001b[0;34m]\u001b[0m\u001b[0;34m\u001b[0m\u001b[0;34m\u001b[0m\u001b[0m\n\u001b[1;32m      6\u001b[0m \u001b[0;34m\u001b[0m\u001b[0m\n",
            "\u001b[0;31mTypeError\u001b[0m: 'int' object is not callable"
          ]
        }
      ],
      "execution_count": 25
    },
    {
      "cell_type": "markdown",
      "source": "<a style='text-decoration:none;line-height:16px;display:flex;color:#5B5B62;padding:10px;justify-content:end;' href='https://deepnote.com?utm_source=created-in-deepnote-cell&projectId=e48528ad-a01c-415a-80de-2ac2130705ad' target=\"_blank\">\n<img alt='Created in deepnote.com' style='display:inline;max-height:16px;margin:0px;margin-right:7.5px;' src='data:image/svg+xml;base64,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' > </img>\nCreated in <span style='font-weight:600;margin-left:4px;'>Deepnote</span></a>",
      "metadata": {
        "tags": [],
        "created_in_deepnote_cell": true,
        "deepnote_cell_type": "markdown"
      }
    }
  ],
  "nbformat": 4,
  "nbformat_minor": 2,
  "metadata": {
    "orig_nbformat": 2,
    "deepnote": {
      "is_reactive": false
    },
    "deepnote_notebook_id": "6c801251-83c6-4dc6-9f70-28a4872aff48",
    "deepnote_execution_queue": []
  }
}